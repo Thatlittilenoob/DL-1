{
 "cells": [
  {
   "cell_type": "markdown",
   "id": "kIwfX6dFJXVo",
   "metadata": {
    "id": "kIwfX6dFJXVo"
   },
   "source": [
    "B211038- Srushti Gavale\n",
    "\n",
    "Boston house price"
   ]
  },
  {
   "cell_type": "code",
   "execution_count": 1,
   "id": "11c38845",
   "metadata": {
    "id": "11c38845"
   },
   "outputs": [],
   "source": [
    "# Importing libraries\n",
    "import numpy as np\n",
    "import pandas as pd\n",
    "import tensorflow as tf\n",
    "from sklearn.model_selection import train_test_split\n",
    "from sklearn.preprocessing import StandardScaler\n",
    "from sklearn.metrics import r2_score\n",
    "import matplotlib.pyplot as plt"
   ]
  },
  {
   "cell_type": "code",
   "execution_count": 2,
   "id": "d47d09fa",
   "metadata": {
    "colab": {
     "base_uri": "https://localhost:8080/",
     "height": 381
    },
    "id": "d47d09fa",
    "outputId": "193f00c2-b09d-4d9d-f9b8-18bc4dad04b6"
   },
   "outputs": [],
   "source": [
    "# Loading the Boston Housing dataset\n",
    "boston_dataset = pd.read_csv('Boston.csv')\n",
    "boston = pd.DataFrame(boston_dataset, columns=boston_dataset.columns)\n",
    "boston['MEDV'] = boston_dataset['medv']"
   ]
  },
  {
   "cell_type": "code",
   "execution_count": 3,
   "id": "8741c5cb",
   "metadata": {
    "colab": {
     "base_uri": "https://localhost:8080/",
     "height": 166
    },
    "id": "8741c5cb",
    "outputId": "33c2532e-0a02-453b-f13d-d3f992f8fa51"
   },
   "outputs": [
    {
     "data": {
      "text/plain": [
       "(506, 16)"
      ]
     },
     "execution_count": 3,
     "metadata": {},
     "output_type": "execute_result"
    }
   ],
   "source": [
    "boston_dataset.shape"
   ]
  },
  {
   "cell_type": "code",
   "execution_count": 4,
   "id": "f4074ae2",
   "metadata": {
    "id": "f4074ae2",
    "outputId": "a2c33cdf-e556-4627-fe27-345625543d0e"
   },
   "outputs": [
    {
     "name": "stdout",
     "output_type": "stream",
     "text": [
      "   Unnamed: 0     crim    zn  indus  chas    nox     rm   age     dis  rad  \\\n",
      "0           1  0.00632  18.0   2.31     0  0.538  6.575  65.2  4.0900    1   \n",
      "1           2  0.02731   0.0   7.07     0  0.469  6.421  78.9  4.9671    2   \n",
      "2           3  0.02729   0.0   7.07     0  0.469  7.185  61.1  4.9671    2   \n",
      "3           4  0.03237   0.0   2.18     0  0.458  6.998  45.8  6.0622    3   \n",
      "4           5  0.06905   0.0   2.18     0  0.458  7.147  54.2  6.0622    3   \n",
      "\n",
      "   tax  ptratio   black  lstat  medv  MEDV  \n",
      "0  296     15.3  396.90   4.98  24.0  24.0  \n",
      "1  242     17.8  396.90   9.14  21.6  21.6  \n",
      "2  242     17.8  392.83   4.03  34.7  34.7  \n",
      "3  222     18.7  394.63   2.94  33.4  33.4  \n",
      "4  222     18.7  396.90   5.33  36.2  36.2  \n"
     ]
    }
   ],
   "source": [
    "print(boston_dataset.head(5))"
   ]
  },
  {
   "cell_type": "code",
   "execution_count": 5,
   "id": "759e4ecf",
   "metadata": {
    "id": "759e4ecf",
    "outputId": "f3d2ca30-bf28-4142-f74b-f5a8f6765321"
   },
   "outputs": [
    {
     "name": "stdout",
     "output_type": "stream",
     "text": [
      "(506, 16)\n"
     ]
    }
   ],
   "source": [
    "print(np.shape(boston_dataset))"
   ]
  },
  {
   "cell_type": "code",
   "execution_count": 6,
   "id": "9914687f",
   "metadata": {
    "id": "9914687f",
    "outputId": "d722321f-8dba-4a83-8470-50ea7f759e89"
   },
   "outputs": [
    {
     "name": "stdout",
     "output_type": "stream",
     "text": [
      "       Unnamed: 0        crim          zn       indus        chas         nox  \\\n",
      "count  506.000000  506.000000  506.000000  506.000000  506.000000  506.000000   \n",
      "mean   253.500000    3.613524   11.363636   11.136779    0.069170    0.554695   \n",
      "std    146.213884    8.601545   23.322453    6.860353    0.253994    0.115878   \n",
      "min      1.000000    0.006320    0.000000    0.460000    0.000000    0.385000   \n",
      "25%    127.250000    0.082045    0.000000    5.190000    0.000000    0.449000   \n",
      "50%    253.500000    0.256510    0.000000    9.690000    0.000000    0.538000   \n",
      "75%    379.750000    3.677083   12.500000   18.100000    0.000000    0.624000   \n",
      "max    506.000000   88.976200  100.000000   27.740000    1.000000    0.871000   \n",
      "\n",
      "               rm         age         dis         rad         tax     ptratio  \\\n",
      "count  506.000000  506.000000  506.000000  506.000000  506.000000  506.000000   \n",
      "mean     6.284634   68.574901    3.795043    9.549407  408.237154   18.455534   \n",
      "std      0.702617   28.148861    2.105710    8.707259  168.537116    2.164946   \n",
      "min      3.561000    2.900000    1.129600    1.000000  187.000000   12.600000   \n",
      "25%      5.885500   45.025000    2.100175    4.000000  279.000000   17.400000   \n",
      "50%      6.208500   77.500000    3.207450    5.000000  330.000000   19.050000   \n",
      "75%      6.623500   94.075000    5.188425   24.000000  666.000000   20.200000   \n",
      "max      8.780000  100.000000   12.126500   24.000000  711.000000   22.000000   \n",
      "\n",
      "            black       lstat        medv        MEDV  \n",
      "count  506.000000  506.000000  506.000000  506.000000  \n",
      "mean   356.674032   12.653063   22.532806   22.532806  \n",
      "std     91.294864    7.141062    9.197104    9.197104  \n",
      "min      0.320000    1.730000    5.000000    5.000000  \n",
      "25%    375.377500    6.950000   17.025000   17.025000  \n",
      "50%    391.440000   11.360000   21.200000   21.200000  \n",
      "75%    396.225000   16.955000   25.000000   25.000000  \n",
      "max    396.900000   37.970000   50.000000   50.000000  \n"
     ]
    }
   ],
   "source": [
    "print(boston_dataset.describe())"
   ]
  },
  {
   "cell_type": "code",
   "execution_count": 7,
   "id": "22985c99",
   "metadata": {
    "id": "22985c99"
   },
   "outputs": [],
   "source": [
    "# Split the data into training and testing sets\n",
    "X = boston.drop('MEDV', axis=1)\n",
    "Y = boston['MEDV']\n",
    "X_train, X_test, Y_train, Y_test = train_test_split(X, Y, test_size=0.2, random_state=1)"
   ]
  },
  {
   "cell_type": "code",
   "execution_count": 8,
   "id": "6d3c93bb",
   "metadata": {
    "id": "6d3c93bb"
   },
   "outputs": [],
   "source": [
    "# Scale the data\n",
    "scaler = StandardScaler()\n",
    "X_train_scaled = scaler.fit_transform(X_train)\n",
    "X_test_scaled = scaler.transform(X_test)"
   ]
  },
  {
   "cell_type": "code",
   "execution_count": 9,
   "id": "6d168276",
   "metadata": {
    "id": "6d168276"
   },
   "outputs": [],
   "source": [
    "# Define the model\n",
    "model = tf.keras.models.Sequential([\n",
    "  tf.keras.layers.Dense(64, activation='relu', input_shape=(X_train.shape[1],)),\n",
    "  tf.keras.layers.Dense(64, activation='relu'),\n",
    "  tf.keras.layers.Dense(1)\n",
    "])"
   ]
  },
  {
   "cell_type": "code",
   "execution_count": 10,
   "id": "67bd8062",
   "metadata": {
    "id": "67bd8062"
   },
   "outputs": [],
   "source": [
    "# Compile the model\n",
    "model.compile(optimizer='adam', loss='mse')"
   ]
  },
  {
   "cell_type": "code",
   "execution_count": 11,
   "id": "1a23efb0",
   "metadata": {
    "id": "1a23efb0",
    "outputId": "36bcdf98-e6a8-44db-dfe3-1adc44e6f35f"
   },
   "outputs": [
    {
     "name": "stdout",
     "output_type": "stream",
     "text": [
      "Epoch 1/100\n",
      "13/13 [==============================] - 2s 27ms/step - loss: 563.4218 - val_loss: 549.6721\n",
      "Epoch 2/100\n",
      "13/13 [==============================] - 0s 6ms/step - loss: 498.3095 - val_loss: 480.0533\n",
      "Epoch 3/100\n",
      "13/13 [==============================] - 0s 5ms/step - loss: 420.9633 - val_loss: 393.2039\n",
      "Epoch 4/100\n",
      "13/13 [==============================] - 0s 6ms/step - loss: 324.1486 - val_loss: 286.4721\n",
      "Epoch 5/100\n",
      "13/13 [==============================] - 0s 6ms/step - loss: 212.3226 - val_loss: 175.9208\n",
      "Epoch 6/100\n",
      "13/13 [==============================] - 0s 7ms/step - loss: 111.1986 - val_loss: 93.0203\n",
      "Epoch 7/100\n",
      "13/13 [==============================] - 0s 6ms/step - loss: 58.9270 - val_loss: 53.6946\n",
      "Epoch 8/100\n",
      "13/13 [==============================] - 0s 6ms/step - loss: 38.7022 - val_loss: 37.0887\n",
      "Epoch 9/100\n",
      "13/13 [==============================] - 0s 6ms/step - loss: 28.7333 - val_loss: 26.8221\n",
      "Epoch 10/100\n",
      "13/13 [==============================] - 0s 6ms/step - loss: 21.6979 - val_loss: 21.2926\n",
      "Epoch 11/100\n",
      "13/13 [==============================] - 0s 6ms/step - loss: 17.9895 - val_loss: 17.4354\n",
      "Epoch 12/100\n",
      "13/13 [==============================] - 0s 5ms/step - loss: 15.5332 - val_loss: 15.0995\n",
      "Epoch 13/100\n",
      "13/13 [==============================] - 0s 5ms/step - loss: 13.6720 - val_loss: 13.5878\n",
      "Epoch 14/100\n",
      "13/13 [==============================] - 0s 5ms/step - loss: 12.3785 - val_loss: 12.4213\n",
      "Epoch 15/100\n",
      "13/13 [==============================] - 0s 6ms/step - loss: 11.0405 - val_loss: 11.3353\n",
      "Epoch 16/100\n",
      "13/13 [==============================] - 0s 5ms/step - loss: 10.0521 - val_loss: 10.4346\n",
      "Epoch 17/100\n",
      "13/13 [==============================] - 0s 6ms/step - loss: 9.1447 - val_loss: 9.6920\n",
      "Epoch 18/100\n",
      "13/13 [==============================] - 0s 6ms/step - loss: 8.3952 - val_loss: 9.0143\n",
      "Epoch 19/100\n",
      "13/13 [==============================] - 0s 6ms/step - loss: 7.7732 - val_loss: 8.5083\n",
      "Epoch 20/100\n",
      "13/13 [==============================] - 0s 6ms/step - loss: 7.2219 - val_loss: 8.0180\n",
      "Epoch 21/100\n",
      "13/13 [==============================] - 0s 5ms/step - loss: 6.7429 - val_loss: 7.5298\n",
      "Epoch 22/100\n",
      "13/13 [==============================] - 0s 5ms/step - loss: 6.3266 - val_loss: 7.1938\n",
      "Epoch 23/100\n",
      "13/13 [==============================] - 0s 6ms/step - loss: 5.9181 - val_loss: 6.8012\n",
      "Epoch 24/100\n",
      "13/13 [==============================] - 0s 6ms/step - loss: 5.6051 - val_loss: 6.4687\n",
      "Epoch 25/100\n",
      "13/13 [==============================] - 0s 6ms/step - loss: 5.2854 - val_loss: 6.2563\n",
      "Epoch 26/100\n",
      "13/13 [==============================] - 0s 6ms/step - loss: 5.0380 - val_loss: 5.9481\n",
      "Epoch 27/100\n",
      "13/13 [==============================] - 0s 5ms/step - loss: 4.7931 - val_loss: 5.6252\n",
      "Epoch 28/100\n",
      "13/13 [==============================] - 0s 7ms/step - loss: 4.5944 - val_loss: 5.4676\n",
      "Epoch 29/100\n",
      "13/13 [==============================] - 0s 6ms/step - loss: 4.3839 - val_loss: 5.2164\n",
      "Epoch 30/100\n",
      "13/13 [==============================] - 0s 6ms/step - loss: 4.2072 - val_loss: 5.0408\n",
      "Epoch 31/100\n",
      "13/13 [==============================] - 0s 6ms/step - loss: 4.0594 - val_loss: 4.8252\n",
      "Epoch 32/100\n",
      "13/13 [==============================] - 0s 5ms/step - loss: 3.9118 - val_loss: 4.7424\n",
      "Epoch 33/100\n",
      "13/13 [==============================] - 0s 6ms/step - loss: 3.7505 - val_loss: 4.5597\n",
      "Epoch 34/100\n",
      "13/13 [==============================] - 0s 5ms/step - loss: 3.6361 - val_loss: 4.4037\n",
      "Epoch 35/100\n",
      "13/13 [==============================] - 0s 6ms/step - loss: 3.5228 - val_loss: 4.2619\n",
      "Epoch 36/100\n",
      "13/13 [==============================] - 0s 6ms/step - loss: 3.3855 - val_loss: 4.0991\n",
      "Epoch 37/100\n",
      "13/13 [==============================] - 0s 6ms/step - loss: 3.2953 - val_loss: 4.0109\n",
      "Epoch 38/100\n",
      "13/13 [==============================] - 0s 5ms/step - loss: 3.1768 - val_loss: 3.8736\n",
      "Epoch 39/100\n",
      "13/13 [==============================] - 0s 7ms/step - loss: 3.0841 - val_loss: 3.7729\n",
      "Epoch 40/100\n",
      "13/13 [==============================] - 0s 6ms/step - loss: 3.0146 - val_loss: 3.6554\n",
      "Epoch 41/100\n",
      "13/13 [==============================] - 0s 6ms/step - loss: 2.9127 - val_loss: 3.5545\n",
      "Epoch 42/100\n",
      "13/13 [==============================] - 0s 6ms/step - loss: 2.8404 - val_loss: 3.4438\n",
      "Epoch 43/100\n",
      "13/13 [==============================] - 0s 6ms/step - loss: 2.7545 - val_loss: 3.3698\n",
      "Epoch 44/100\n",
      "13/13 [==============================] - 0s 6ms/step - loss: 2.6909 - val_loss: 3.3169\n",
      "Epoch 45/100\n",
      "13/13 [==============================] - 0s 7ms/step - loss: 2.6519 - val_loss: 3.1699\n",
      "Epoch 46/100\n",
      "13/13 [==============================] - 0s 6ms/step - loss: 2.5159 - val_loss: 3.1318\n",
      "Epoch 47/100\n",
      "13/13 [==============================] - 0s 6ms/step - loss: 2.4731 - val_loss: 3.0176\n",
      "Epoch 48/100\n",
      "13/13 [==============================] - 0s 5ms/step - loss: 2.3867 - val_loss: 2.9647\n",
      "Epoch 49/100\n",
      "13/13 [==============================] - 0s 6ms/step - loss: 2.3230 - val_loss: 2.8443\n",
      "Epoch 50/100\n",
      "13/13 [==============================] - 0s 6ms/step - loss: 2.2598 - val_loss: 2.8015\n",
      "Epoch 51/100\n",
      "13/13 [==============================] - 0s 5ms/step - loss: 2.2079 - val_loss: 2.7225\n",
      "Epoch 52/100\n",
      "13/13 [==============================] - 0s 5ms/step - loss: 2.1228 - val_loss: 2.6579\n",
      "Epoch 53/100\n",
      "13/13 [==============================] - 0s 6ms/step - loss: 2.0751 - val_loss: 2.5626\n",
      "Epoch 54/100\n",
      "13/13 [==============================] - 0s 6ms/step - loss: 2.0151 - val_loss: 2.5449\n",
      "Epoch 55/100\n",
      "13/13 [==============================] - 0s 6ms/step - loss: 1.9841 - val_loss: 2.4478\n",
      "Epoch 56/100\n",
      "13/13 [==============================] - 0s 5ms/step - loss: 1.9353 - val_loss: 2.3826\n",
      "Epoch 57/100\n",
      "13/13 [==============================] - 0s 6ms/step - loss: 1.8677 - val_loss: 2.3064\n",
      "Epoch 58/100\n",
      "13/13 [==============================] - 0s 5ms/step - loss: 1.8230 - val_loss: 2.2551\n",
      "Epoch 59/100\n",
      "13/13 [==============================] - 0s 5ms/step - loss: 1.7684 - val_loss: 2.1604\n",
      "Epoch 60/100\n",
      "13/13 [==============================] - 0s 6ms/step - loss: 1.7176 - val_loss: 2.1538\n",
      "Epoch 61/100\n",
      "13/13 [==============================] - 0s 6ms/step - loss: 1.6893 - val_loss: 2.0953\n",
      "Epoch 62/100\n",
      "13/13 [==============================] - 0s 5ms/step - loss: 1.6497 - val_loss: 2.0484\n",
      "Epoch 63/100\n",
      "13/13 [==============================] - 0s 5ms/step - loss: 1.6217 - val_loss: 2.0064\n",
      "Epoch 64/100\n",
      "13/13 [==============================] - 0s 5ms/step - loss: 1.5610 - val_loss: 1.9373\n",
      "Epoch 65/100\n",
      "13/13 [==============================] - 0s 5ms/step - loss: 1.5148 - val_loss: 1.9090\n",
      "Epoch 66/100\n",
      "13/13 [==============================] - 0s 5ms/step - loss: 1.4865 - val_loss: 1.8672\n",
      "Epoch 67/100\n",
      "13/13 [==============================] - 0s 5ms/step - loss: 1.4696 - val_loss: 1.8302\n",
      "Epoch 68/100\n",
      "13/13 [==============================] - 0s 5ms/step - loss: 1.4525 - val_loss: 1.7866\n",
      "Epoch 69/100\n",
      "13/13 [==============================] - 0s 4ms/step - loss: 1.3786 - val_loss: 1.7429\n",
      "Epoch 70/100\n",
      "13/13 [==============================] - 0s 5ms/step - loss: 1.3258 - val_loss: 1.7395\n",
      "Epoch 71/100\n",
      "13/13 [==============================] - 0s 5ms/step - loss: 1.3057 - val_loss: 1.6556\n",
      "Epoch 72/100\n",
      "13/13 [==============================] - 0s 4ms/step - loss: 1.2747 - val_loss: 1.6604\n",
      "Epoch 73/100\n",
      "13/13 [==============================] - 0s 4ms/step - loss: 1.2316 - val_loss: 1.5969\n",
      "Epoch 74/100\n",
      "13/13 [==============================] - 0s 4ms/step - loss: 1.2084 - val_loss: 1.6014\n",
      "Epoch 75/100\n",
      "13/13 [==============================] - 0s 4ms/step - loss: 1.1698 - val_loss: 1.5312\n",
      "Epoch 76/100\n",
      "13/13 [==============================] - 0s 4ms/step - loss: 1.1411 - val_loss: 1.5090\n",
      "Epoch 77/100\n",
      "13/13 [==============================] - 0s 4ms/step - loss: 1.1213 - val_loss: 1.4986\n",
      "Epoch 78/100\n",
      "13/13 [==============================] - 0s 4ms/step - loss: 1.0982 - val_loss: 1.4721\n",
      "Epoch 79/100\n",
      "13/13 [==============================] - 0s 4ms/step - loss: 1.0733 - val_loss: 1.4295\n",
      "Epoch 80/100\n",
      "13/13 [==============================] - 0s 4ms/step - loss: 1.0404 - val_loss: 1.4126\n",
      "Epoch 81/100\n",
      "13/13 [==============================] - 0s 4ms/step - loss: 1.0160 - val_loss: 1.3868\n",
      "Epoch 82/100\n",
      "13/13 [==============================] - 0s 4ms/step - loss: 0.9927 - val_loss: 1.3562\n",
      "Epoch 83/100\n",
      "13/13 [==============================] - 0s 4ms/step - loss: 0.9687 - val_loss: 1.3388\n",
      "Epoch 84/100\n",
      "13/13 [==============================] - 0s 4ms/step - loss: 0.9482 - val_loss: 1.2957\n",
      "Epoch 85/100\n",
      "13/13 [==============================] - 0s 4ms/step - loss: 0.9177 - val_loss: 1.2923\n",
      "Epoch 86/100\n",
      "13/13 [==============================] - 0s 4ms/step - loss: 0.9087 - val_loss: 1.2645\n",
      "Epoch 87/100\n",
      "13/13 [==============================] - 0s 4ms/step - loss: 0.9036 - val_loss: 1.2478\n",
      "Epoch 88/100\n",
      "13/13 [==============================] - 0s 5ms/step - loss: 0.8651 - val_loss: 1.2185\n",
      "Epoch 89/100\n",
      "13/13 [==============================] - 0s 5ms/step - loss: 0.8605 - val_loss: 1.1993\n",
      "Epoch 90/100\n",
      "13/13 [==============================] - 0s 4ms/step - loss: 0.8379 - val_loss: 1.1964\n",
      "Epoch 91/100\n",
      "13/13 [==============================] - 0s 4ms/step - loss: 0.8143 - val_loss: 1.1770\n",
      "Epoch 92/100\n",
      "13/13 [==============================] - 0s 4ms/step - loss: 0.7948 - val_loss: 1.1488\n",
      "Epoch 93/100\n",
      "13/13 [==============================] - 0s 5ms/step - loss: 0.8033 - val_loss: 1.1441\n",
      "Epoch 94/100\n",
      "13/13 [==============================] - 0s 5ms/step - loss: 0.7776 - val_loss: 1.1137\n",
      "Epoch 95/100\n",
      "13/13 [==============================] - 0s 4ms/step - loss: 0.7682 - val_loss: 1.1089\n",
      "Epoch 96/100\n",
      "13/13 [==============================] - 0s 4ms/step - loss: 0.7370 - val_loss: 1.0778\n",
      "Epoch 97/100\n",
      "13/13 [==============================] - 0s 5ms/step - loss: 0.7239 - val_loss: 1.0661\n",
      "Epoch 98/100\n",
      "13/13 [==============================] - 0s 4ms/step - loss: 0.7140 - val_loss: 1.0677\n",
      "Epoch 99/100\n",
      "13/13 [==============================] - 0s 4ms/step - loss: 0.7062 - val_loss: 1.0300\n",
      "Epoch 100/100\n",
      "13/13 [==============================] - 0s 4ms/step - loss: 0.6813 - val_loss: 1.0239\n"
     ]
    }
   ],
   "source": [
    "# Train the model\n",
    "history = model.fit(X_train_scaled, Y_train, validation_data=(X_test_scaled, Y_test), epochs=100)"
   ]
  },
  {
   "cell_type": "code",
   "execution_count": 12,
   "id": "ac3bad58",
   "metadata": {
    "id": "ac3bad58",
    "outputId": "4fde00c9-f548-418c-f416-0e3c5c478f04"
   },
   "outputs": [
    {
     "name": "stdout",
     "output_type": "stream",
     "text": [
      "4/4 [==============================] - 0s 2ms/step\n",
      "R^2 score: 0.9896393636881784\n"
     ]
    }
   ],
   "source": [
    "# Evaluate the model\n",
    "Y_pred = model.predict(X_test_scaled)\n",
    "r2 = r2_score(Y_test, Y_pred)\n",
    "print(\"R^2 score:\", r2)\n"
   ]
  },
  {
   "cell_type": "code",
   "execution_count": 1,
   "id": "feeca502",
   "metadata": {
    "id": "feeca502",
    "outputId": "c7446586-11c0-4dd4-d7ac-ccbe6dc63a49",
    "scrolled": true
   },
   "outputs": [
    {
     "name": "stderr",
     "output_type": "stream",
     "text": [
      "C:\\Users\\Srush\\anaconda3\\lib\\site-packages\\seaborn\\_decorators.py:36: FutureWarning: Pass the following variables as keyword args: x, y. From version 0.12, the only valid positional argument will be `data`, and passing other arguments without an explicit keyword will result in an error or misinterpretation.\n",
      "  warnings.warn(\n",
      "C:\\Users\\Srush\\anaconda3\\lib\\site-packages\\seaborn\\_decorators.py:36: FutureWarning: Pass the following variables as keyword args: x, y. From version 0.12, the only valid positional argument will be `data`, and passing other arguments without an explicit keyword will result in an error or misinterpretation.\n",
      "  warnings.warn(\n"
     ]
    },
    {
     "data": {
      "text/plain": [
       "<AxesSubplot:xlabel='True Values', ylabel='Predicted Values'>"
      ]
     },
     "execution_count": 1,
     "metadata": {},
     "output_type": "execute_result"
    },
    {
     "data": {
      "image/png": "[encoded data removed]",
      "text/plain": [
       "<Figure size 432x288 with 1 Axes>"
      ]
     },
     "metadata": {
      "needs_background": "light"
     },
     "output_type": "display_data"
    }
   ],
   "source": [
    "import numpy as np\n",
    "import seaborn as sns\n",
    "import matplotlib.pyplot as plt\n",
    "\n",
    "# Generate some sample data\n",
    "X = np.random.normal(0, 1, 100)\n",
    "Y = 2 * X + np.random.normal(0, 1, 100)\n",
    "\n",
    "# Fit a linear regression model\n",
    "model = np.polyfit(X, Y, 1)\n",
    "\n",
    "# Make predictions on the training data\n",
    "Y_pred = np.polyval(model, X)\n",
    "\n",
    "# Add axis labels\n",
    "plt.xlabel('True Values')\n",
    "plt.ylabel('Predicted Values')\n",
    "\n",
    "# Create a scatter plot of predicted vs true values\n",
    "sns.scatterplot(np.squeeze(Y), np.squeeze(Y_pred))\n",
    "\n",
    "# Add a diagonal line to show perfect correlation\n",
    "sns.lineplot(np.squeeze(Y), np.squeeze(Y), color='red')\n",
    "\n"
   ]
  },
  {
   "cell_type": "code",
   "execution_count": null,
   "id": "fb610184",
   "metadata": {
    "id": "fb610184"
   },
   "outputs": [],
   "source": []
  },
  {
   "cell_type": "code",
   "execution_count": null,
   "id": "bd40ff97",
   "metadata": {},
   "outputs": [],
   "source": []
  }
 ],
 "metadata": {
  "colab": {
   "provenance": []
  },
  "kernelspec": {
   "display_name": "Python 3 (ipykernel)",
   "language": "python",
   "name": "python3"
  },
  "language_info": {
   "codemirror_mode": {
    "name": "ipython",
    "version": 3
   },
   "file_extension": ".py",
   "mimetype": "text/x-python",
   "name": "python",
   "nbconvert_exporter": "python",
   "pygments_lexer": "ipython3",
   "version": "3.9.12"
  }
 },
 "nbformat": 4,
 "nbformat_minor": 5
}
